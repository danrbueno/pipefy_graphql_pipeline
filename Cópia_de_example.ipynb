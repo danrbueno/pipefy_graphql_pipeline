{
  "cells": [
    {
      "cell_type": "markdown",
      "metadata": {
        "id": "view-in-github",
        "colab_type": "text"
      },
      "source": [
        "<a href=\"https://colab.research.google.com/github/danrbueno/python_pipefy/blob/main/C%C3%B3pia_de_example.ipynb\" target=\"_parent\"><img src=\"https://colab.research.google.com/assets/colab-badge.svg\" alt=\"Open In Colab\"/></a>"
      ]
    },
    {
      "cell_type": "code",
      "execution_count": null,
      "metadata": {
        "id": "gFDr4ylK7OBe"
      },
      "outputs": [],
      "source": [
        "#install unidecode used in pipefy.py and then import pipefy from pipefy.py\n",
        "\n",
        "!pip install unidecode\n",
        "import pipefy"
      ]
    },
    {
      "cell_type": "code",
      "execution_count": null,
      "metadata": {
        "id": "_zTAlE6Q8aCa"
      },
      "outputs": [],
      "source": [
        "# Get the cards from Pipefy.\n",
        "# See the query used in config.py.\n",
        "\n",
        "cards = pipefy.get_cards()"
      ]
    },
    {
      "cell_type": "code",
      "execution_count": null,
      "metadata": {
        "id": "kzNH4AxO-pip"
      },
      "outputs": [],
      "source": [
        "# Load a dataframe with the cards returned from pipefy.get_cards()\n",
        "\n",
        "df_cards = pipefy.load_dataframe(cards)"
      ]
    },
    {
      "cell_type": "code",
      "source": [
        "# Show all the cards in the dataframe.\n",
        "df_cards"
      ],
      "metadata": {
        "id": "1dgZToz8gYGh"
      },
      "execution_count": null,
      "outputs": []
    },
    {
      "cell_type": "code",
      "source": [
        "# Filter the dataframe, showing only rows with 'Daniel Bueno' in the column 'vendedor responsavel'\n",
        "\n",
        "df_cards[df_cards[\"vendedor_responsavel\"].isin(list(filter(lambda x: \"Daniel Bueno\" in x, df_cards[\"vendedor_responsavel\"])))]"
      ],
      "metadata": {
        "id": "aKsdILlW7QHJ"
      },
      "execution_count": null,
      "outputs": []
    },
    {
      "cell_type": "code",
      "source": [
        ""
      ],
      "metadata": {
        "id": "xKCrNvITghFl"
      },
      "execution_count": null,
      "outputs": []
    }
  ],
  "metadata": {
    "colab": {
      "collapsed_sections": [],
      "name": "Cópia de example.ipynb",
      "provenance": [],
      "include_colab_link": true
    },
    "kernelspec": {
      "display_name": "Python 3",
      "name": "python3"
    },
    "language_info": {
      "codemirror_mode": {
        "name": "ipython",
        "version": 3
      },
      "file_extension": ".py",
      "mimetype": "text/x-python",
      "name": "python",
      "nbconvert_exporter": "python",
      "pygments_lexer": "ipython3",
      "version": "3.10.5"
    }
  },
  "nbformat": 4,
  "nbformat_minor": 0
}