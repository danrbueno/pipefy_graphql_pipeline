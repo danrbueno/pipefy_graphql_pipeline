{
 "cells": [
  {
   "attachments": {},
   "cell_type": "markdown",
   "metadata": {
    "tags": []
   },
   "source": [
    "Imports"
   ]
  },
  {
   "cell_type": "code",
   "execution_count": 15,
   "metadata": {},
   "outputs": [],
   "source": [
    "import pipefy\n",
    "import pandas as pd\n",
    "import numpy as np\n",
    "from datetime import datetime\n",
    "import json"
   ]
  },
  {
   "cell_type": "markdown",
   "metadata": {},
   "source": [
    "Set pipe ID to get data from Pipefy"
   ]
  },
  {
   "cell_type": "code",
   "execution_count": 16,
   "metadata": {},
   "outputs": [],
   "source": [
    "pipe = pipefy.Pipe(\"302551116\")"
   ]
  },
  {
   "attachments": {},
   "cell_type": "markdown",
   "metadata": {},
   "source": [
    "Get cards data from Pipefy"
   ]
  },
  {
   "cell_type": "code",
   "execution_count": 17,
   "metadata": {},
   "outputs": [],
   "source": [
    "data = pipe.get_data()"
   ]
  },
  {
   "attachments": {},
   "cell_type": "markdown",
   "metadata": {},
   "source": [
    "Turn the data returned from GraphQL into various dataframes"
   ]
  },
  {
   "cell_type": "code",
   "execution_count": 18,
   "metadata": {},
   "outputs": [],
   "source": [
    "#['df_cards', 'df_current_phase', 'df_assignees', 'df_comments', 'df_labels', 'df_phases_history', 'df_fields']\n",
    "dfs = pipe.set_dataframes(data)"
   ]
  },
  {
   "attachments": {},
   "cell_type": "markdown",
   "metadata": {},
   "source": [
    "Turn the column value in df_fields from string into a list type and then explode the list."
   ]
  },
  {
   "cell_type": "code",
   "execution_count": 19,
   "metadata": {},
   "outputs": [],
   "source": [
    "dfs[\"df_fields\"] = pd.eval(f\"value2 = dfs['df_fields']['value'].str.strip('[\\\"\\\"]').str.split('\\\", \\\"')\", target=dfs[\"df_fields\"])\n",
    "dfs[\"df_fields\"] = dfs[\"df_fields\"].explode(\"value2\", ignore_index=True)\n",
    "dfs[\"df_fields\"].drop(columns=[\"value\"], inplace=True)"
   ]
  },
  {
   "attachments": {},
   "cell_type": "markdown",
   "metadata": {},
   "source": [
    "Set the column phase in df_phases_history from dict into various columns"
   ]
  },
  {
   "cell_type": "code",
   "execution_count": 20,
   "metadata": {},
   "outputs": [],
   "source": [
    "dfs[\"df_phases_history\"] = pd.concat([dfs[\"df_phases_history\"], dfs[\"df_phases_history\"][\"phase\"].apply(pd.Series)], axis=1)\n",
    "dfs[\"df_phases_history\"].drop(columns=[\"phase\"], inplace=True)"
   ]
  },
  {
   "attachments": {},
   "cell_type": "markdown",
   "metadata": {},
   "source": [
    "Turn all the dataframes into CSV files."
   ]
  },
  {
   "cell_type": "code",
   "execution_count": 21,
   "metadata": {},
   "outputs": [],
   "source": [
    "for df in dfs:\n",
    "    dfs[df].to_csv(f\"../datasets/data_{df[3:len(df)]}.csv\", index = False)\n"
   ]
  }
 ],
 "metadata": {
  "colab": {
   "collapsed_sections": [],
   "name": "example.ipynb",
   "provenance": []
  },
  "kernelspec": {
   "display_name": "Python 3",
   "language": "python",
   "name": "python3"
  },
  "language_info": {
   "codemirror_mode": {
    "name": "ipython",
    "version": 3
   },
   "file_extension": ".py",
   "mimetype": "text/x-python",
   "name": "python",
   "nbconvert_exporter": "python",
   "pygments_lexer": "ipython3",
   "version": "3.10.5"
  },
  "vscode": {
   "interpreter": {
    "hash": "b926dc41490bd7ea3c8e33a3602e17862f8edd2cc52e64ba5e882d87279d3a41"
   }
  }
 },
 "nbformat": 4,
 "nbformat_minor": 1
}
